{
 "cells": [
  {
   "cell_type": "code",
   "execution_count": 1,
   "id": "1bcdf939-21c8-4368-8b59-7f9e4ac8bf9c",
   "metadata": {},
   "outputs": [],
   "source": [
    "import pandas as pd\n",
    "import matplotlib.pyplot as plt \n",
    "import seaborn as sns \n",
    "\n"
   ]
  },
  {
   "cell_type": "code",
   "execution_count": 2,
   "id": "11c12eee-341f-4eac-83a0-f412ea52a411",
   "metadata": {},
   "outputs": [],
   "source": [
    "df=pd.read_csv(\"te_marks.csv\")\n"
   ]
  },
  {
   "cell_type": "code",
   "execution_count": 3,
   "id": "64f770ec-2a14-4229-8e07-0a73130c8c80",
   "metadata": {},
   "outputs": [],
   "source": [
    "df=df.iloc[:,1:4]"
   ]
  },
  {
   "cell_type": "code",
   "execution_count": 4,
   "id": "866445c3-49e3-415d-98c2-f8c07a942191",
   "metadata": {},
   "outputs": [
    {
     "data": {
      "text/html": [
       "<div>\n",
       "<style scoped>\n",
       "    .dataframe tbody tr th:only-of-type {\n",
       "        vertical-align: middle;\n",
       "    }\n",
       "\n",
       "    .dataframe tbody tr th {\n",
       "        vertical-align: top;\n",
       "    }\n",
       "\n",
       "    .dataframe thead th {\n",
       "        text-align: right;\n",
       "    }\n",
       "</style>\n",
       "<table border=\"1\" class=\"dataframe\">\n",
       "  <thead>\n",
       "    <tr style=\"text-align: right;\">\n",
       "      <th></th>\n",
       "      <th>Name</th>\n",
       "      <th>Gender</th>\n",
       "      <th>cgpa</th>\n",
       "    </tr>\n",
       "  </thead>\n",
       "  <tbody>\n",
       "    <tr>\n",
       "      <th>0</th>\n",
       "      <td>ADE SHUBHAM PRADEEP</td>\n",
       "      <td>M</td>\n",
       "      <td>8.40</td>\n",
       "    </tr>\n",
       "    <tr>\n",
       "      <th>1</th>\n",
       "      <td>ADITYA DATTATRAY TAJANE</td>\n",
       "      <td>M</td>\n",
       "      <td>8.19</td>\n",
       "    </tr>\n",
       "    <tr>\n",
       "      <th>2</th>\n",
       "      <td>ADITYA PAWAR</td>\n",
       "      <td>M</td>\n",
       "      <td>7.43</td>\n",
       "    </tr>\n",
       "    <tr>\n",
       "      <th>3</th>\n",
       "      <td>AKANKSHA DILIP DHEBE</td>\n",
       "      <td>F</td>\n",
       "      <td>0.00</td>\n",
       "    </tr>\n",
       "    <tr>\n",
       "      <th>4</th>\n",
       "      <td>AKASH DEEPAK SHRIVASTAV</td>\n",
       "      <td>M</td>\n",
       "      <td>6.88</td>\n",
       "    </tr>\n",
       "    <tr>\n",
       "      <th>...</th>\n",
       "      <td>...</td>\n",
       "      <td>...</td>\n",
       "      <td>...</td>\n",
       "    </tr>\n",
       "    <tr>\n",
       "      <th>74</th>\n",
       "      <td>WANJARI GAURAV SURENDRA</td>\n",
       "      <td>M</td>\n",
       "      <td>8.26</td>\n",
       "    </tr>\n",
       "    <tr>\n",
       "      <th>75</th>\n",
       "      <td>YELURE MAHADEV MALLINATH</td>\n",
       "      <td>M</td>\n",
       "      <td>8.45</td>\n",
       "    </tr>\n",
       "    <tr>\n",
       "      <th>76</th>\n",
       "      <td>YOJIT PREMENDRA WAGHMARE</td>\n",
       "      <td>M</td>\n",
       "      <td>7.93</td>\n",
       "    </tr>\n",
       "    <tr>\n",
       "      <th>77</th>\n",
       "      <td>LOKHANDE NISHANT VITTHAL</td>\n",
       "      <td>M</td>\n",
       "      <td>0.00</td>\n",
       "    </tr>\n",
       "    <tr>\n",
       "      <th>78</th>\n",
       "      <td>SHINDE POOJA RAJU</td>\n",
       "      <td>F</td>\n",
       "      <td>0.00</td>\n",
       "    </tr>\n",
       "  </tbody>\n",
       "</table>\n",
       "<p>79 rows × 3 columns</p>\n",
       "</div>"
      ],
      "text/plain": [
       "                        Name Gender  cgpa\n",
       "0        ADE SHUBHAM PRADEEP      M  8.40\n",
       "1    ADITYA DATTATRAY TAJANE      M  8.19\n",
       "2               ADITYA PAWAR      M  7.43\n",
       "3       AKANKSHA DILIP DHEBE      F  0.00\n",
       "4    AKASH DEEPAK SHRIVASTAV      M  6.88\n",
       "..                       ...    ...   ...\n",
       "74   WANJARI GAURAV SURENDRA      M  8.26\n",
       "75  YELURE MAHADEV MALLINATH      M  8.45\n",
       "76  YOJIT PREMENDRA WAGHMARE      M  7.93\n",
       "77  LOKHANDE NISHANT VITTHAL      M  0.00\n",
       "78         SHINDE POOJA RAJU      F  0.00\n",
       "\n",
       "[79 rows x 3 columns]"
      ]
     },
     "execution_count": 4,
     "metadata": {},
     "output_type": "execute_result"
    }
   ],
   "source": [
    "df"
   ]
  },
  {
   "cell_type": "code",
   "execution_count": 5,
   "id": "f42942b5-a720-40f2-ac64-2428021b9dab",
   "metadata": {},
   "outputs": [],
   "source": [
    "en_data=df[[\"Gender\"]]"
   ]
  },
  {
   "cell_type": "code",
   "execution_count": 6,
   "id": "8b2621a2-0cc6-419d-9abf-7a80c36ebe6b",
   "metadata": {},
   "outputs": [],
   "source": [
    "new_data=pd.get_dummies(en_data)"
   ]
  },
  {
   "cell_type": "code",
   "execution_count": 7,
   "id": "512667cc-b3f8-41cb-9935-2108431d0fcf",
   "metadata": {},
   "outputs": [],
   "source": [
    "# new_data.drop(columns=[\"Gender_F\"],inplace=True)"
   ]
  },
  {
   "cell_type": "code",
   "execution_count": 8,
   "id": "aa75573a-a3bc-4f33-846a-56cff9b240c2",
   "metadata": {},
   "outputs": [],
   "source": [
    "new_data['Gender_M']=new_data['Gender_M'].astype(int)"
   ]
  },
  {
   "cell_type": "code",
   "execution_count": 9,
   "id": "4be4dce5-ddb6-4204-b0c0-bda8b449208a",
   "metadata": {},
   "outputs": [
    {
     "data": {
      "text/html": [
       "<div>\n",
       "<style scoped>\n",
       "    .dataframe tbody tr th:only-of-type {\n",
       "        vertical-align: middle;\n",
       "    }\n",
       "\n",
       "    .dataframe tbody tr th {\n",
       "        vertical-align: top;\n",
       "    }\n",
       "\n",
       "    .dataframe thead th {\n",
       "        text-align: right;\n",
       "    }\n",
       "</style>\n",
       "<table border=\"1\" class=\"dataframe\">\n",
       "  <thead>\n",
       "    <tr style=\"text-align: right;\">\n",
       "      <th></th>\n",
       "      <th>Gender_F</th>\n",
       "      <th>Gender_M</th>\n",
       "    </tr>\n",
       "  </thead>\n",
       "  <tbody>\n",
       "    <tr>\n",
       "      <th>0</th>\n",
       "      <td>False</td>\n",
       "      <td>1</td>\n",
       "    </tr>\n",
       "    <tr>\n",
       "      <th>1</th>\n",
       "      <td>False</td>\n",
       "      <td>1</td>\n",
       "    </tr>\n",
       "    <tr>\n",
       "      <th>2</th>\n",
       "      <td>False</td>\n",
       "      <td>1</td>\n",
       "    </tr>\n",
       "    <tr>\n",
       "      <th>3</th>\n",
       "      <td>True</td>\n",
       "      <td>0</td>\n",
       "    </tr>\n",
       "    <tr>\n",
       "      <th>4</th>\n",
       "      <td>False</td>\n",
       "      <td>1</td>\n",
       "    </tr>\n",
       "    <tr>\n",
       "      <th>...</th>\n",
       "      <td>...</td>\n",
       "      <td>...</td>\n",
       "    </tr>\n",
       "    <tr>\n",
       "      <th>74</th>\n",
       "      <td>False</td>\n",
       "      <td>1</td>\n",
       "    </tr>\n",
       "    <tr>\n",
       "      <th>75</th>\n",
       "      <td>False</td>\n",
       "      <td>1</td>\n",
       "    </tr>\n",
       "    <tr>\n",
       "      <th>76</th>\n",
       "      <td>False</td>\n",
       "      <td>1</td>\n",
       "    </tr>\n",
       "    <tr>\n",
       "      <th>77</th>\n",
       "      <td>False</td>\n",
       "      <td>1</td>\n",
       "    </tr>\n",
       "    <tr>\n",
       "      <th>78</th>\n",
       "      <td>True</td>\n",
       "      <td>0</td>\n",
       "    </tr>\n",
       "  </tbody>\n",
       "</table>\n",
       "<p>79 rows × 2 columns</p>\n",
       "</div>"
      ],
      "text/plain": [
       "    Gender_F  Gender_M\n",
       "0      False         1\n",
       "1      False         1\n",
       "2      False         1\n",
       "3       True         0\n",
       "4      False         1\n",
       "..       ...       ...\n",
       "74     False         1\n",
       "75     False         1\n",
       "76     False         1\n",
       "77     False         1\n",
       "78      True         0\n",
       "\n",
       "[79 rows x 2 columns]"
      ]
     },
     "execution_count": 9,
     "metadata": {},
     "output_type": "execute_result"
    }
   ],
   "source": [
    "new_data"
   ]
  },
  {
   "cell_type": "code",
   "execution_count": 10,
   "id": "08b49ce2-8c07-44aa-8144-75743d2357f1",
   "metadata": {},
   "outputs": [],
   "source": [
    "df[\"Gender_M\"]=new_data['Gender_M']"
   ]
  },
  {
   "cell_type": "code",
   "execution_count": 11,
   "id": "af51c80d-e9f7-4a5f-8db3-9503cd319785",
   "metadata": {},
   "outputs": [],
   "source": [
    "df.drop(columns=[\"Gender\"],inplace=True)"
   ]
  },
  {
   "cell_type": "code",
   "execution_count": 12,
   "id": "7f9e6fc8-8c14-4ab1-b212-43408c7cae1a",
   "metadata": {},
   "outputs": [
    {
     "data": {
      "text/html": [
       "<div>\n",
       "<style scoped>\n",
       "    .dataframe tbody tr th:only-of-type {\n",
       "        vertical-align: middle;\n",
       "    }\n",
       "\n",
       "    .dataframe tbody tr th {\n",
       "        vertical-align: top;\n",
       "    }\n",
       "\n",
       "    .dataframe thead th {\n",
       "        text-align: right;\n",
       "    }\n",
       "</style>\n",
       "<table border=\"1\" class=\"dataframe\">\n",
       "  <thead>\n",
       "    <tr style=\"text-align: right;\">\n",
       "      <th></th>\n",
       "      <th>Name</th>\n",
       "      <th>cgpa</th>\n",
       "      <th>Gender_M</th>\n",
       "    </tr>\n",
       "  </thead>\n",
       "  <tbody>\n",
       "    <tr>\n",
       "      <th>0</th>\n",
       "      <td>ADE SHUBHAM PRADEEP</td>\n",
       "      <td>8.4</td>\n",
       "      <td>1</td>\n",
       "    </tr>\n",
       "  </tbody>\n",
       "</table>\n",
       "</div>"
      ],
      "text/plain": [
       "                  Name  cgpa  Gender_M\n",
       "0  ADE SHUBHAM PRADEEP   8.4         1"
      ]
     },
     "execution_count": 12,
     "metadata": {},
     "output_type": "execute_result"
    }
   ],
   "source": [
    "df.head(1)"
   ]
  },
  {
   "cell_type": "code",
   "execution_count": null,
   "id": "931f0a98-d014-49fa-88b3-b731a41564ce",
   "metadata": {},
   "outputs": [],
   "source": []
  },
  {
   "cell_type": "code",
   "execution_count": 13,
   "id": "59e467d3-dd4e-4037-a9c5-4c63febeb334",
   "metadata": {},
   "outputs": [],
   "source": [
    "list=[]\n",
    "for i in range(0,df.shape[0]):\n",
    "   if(df[\"Gender_M\"][i]==1):\n",
    "       col=[]\n",
    "       for j in df.columns:\n",
    "           col.append(df[j][i])\n",
    "       list.append(col)"
   ]
  },
  {
   "cell_type": "code",
   "execution_count": 14,
   "id": "242e96c6-6915-4967-9a98-1a622503b9d0",
   "metadata": {},
   "outputs": [
    {
     "data": {
      "text/plain": [
       "'ADE SHUBHAM PRADEEP'"
      ]
     },
     "execution_count": 14,
     "metadata": {},
     "output_type": "execute_result"
    }
   ],
   "source": [
    "list[0][0]"
   ]
  },
  {
   "cell_type": "code",
   "execution_count": 15,
   "id": "9f484dde-8deb-4e1a-9c61-cf786b2aaac9",
   "metadata": {},
   "outputs": [],
   "source": [
    "my_data=pd.DataFrame(list ,columns=[\"name\",\"cgpa\",\"Gender\"])"
   ]
  },
  {
   "cell_type": "code",
   "execution_count": 16,
   "id": "07b475a0-b52a-4b4a-ad0f-03ea2a05de98",
   "metadata": {},
   "outputs": [],
   "source": [
    "df_sorted = my_data.sort_values(by='cgpa',ascending=False)"
   ]
  },
  {
   "cell_type": "code",
   "execution_count": 17,
   "id": "990874c2-ea90-4e4c-bea8-cf6110d19599",
   "metadata": {},
   "outputs": [
    {
     "ename": "AttributeError",
     "evalue": "'DataFrame' object has no attribute 'save'",
     "output_type": "error",
     "traceback": [
      "\u001b[1;31m---------------------------------------------------------------------------\u001b[0m",
      "\u001b[1;31mAttributeError\u001b[0m                            Traceback (most recent call last)",
      "\u001b[1;32m~\\AppData\\Local\\Temp\\ipykernel_7420\\4229291324.py\u001b[0m in \u001b[0;36m?\u001b[1;34m()\u001b[0m\n\u001b[1;32m----> 1\u001b[1;33m \u001b[0mdf_sorted\u001b[0m\u001b[1;33m.\u001b[0m\u001b[0msave\u001b[0m\u001b[1;33m\u001b[0m\u001b[1;33m\u001b[0m\u001b[0m\n\u001b[0m",
      "\u001b[1;32m~\\anaconda3\\Lib\\site-packages\\pandas\\core\\generic.py\u001b[0m in \u001b[0;36m?\u001b[1;34m(self, name)\u001b[0m\n\u001b[0;32m   6295\u001b[0m             \u001b[1;32mand\u001b[0m \u001b[0mname\u001b[0m \u001b[1;32mnot\u001b[0m \u001b[1;32min\u001b[0m \u001b[0mself\u001b[0m\u001b[1;33m.\u001b[0m\u001b[0m_accessors\u001b[0m\u001b[1;33m\u001b[0m\u001b[1;33m\u001b[0m\u001b[0m\n\u001b[0;32m   6296\u001b[0m             \u001b[1;32mand\u001b[0m \u001b[0mself\u001b[0m\u001b[1;33m.\u001b[0m\u001b[0m_info_axis\u001b[0m\u001b[1;33m.\u001b[0m\u001b[0m_can_hold_identifiers_and_holds_name\u001b[0m\u001b[1;33m(\u001b[0m\u001b[0mname\u001b[0m\u001b[1;33m)\u001b[0m\u001b[1;33m\u001b[0m\u001b[1;33m\u001b[0m\u001b[0m\n\u001b[0;32m   6297\u001b[0m         \u001b[1;33m)\u001b[0m\u001b[1;33m:\u001b[0m\u001b[1;33m\u001b[0m\u001b[1;33m\u001b[0m\u001b[0m\n\u001b[0;32m   6298\u001b[0m             \u001b[1;32mreturn\u001b[0m \u001b[0mself\u001b[0m\u001b[1;33m[\u001b[0m\u001b[0mname\u001b[0m\u001b[1;33m]\u001b[0m\u001b[1;33m\u001b[0m\u001b[1;33m\u001b[0m\u001b[0m\n\u001b[1;32m-> 6299\u001b[1;33m         \u001b[1;32mreturn\u001b[0m \u001b[0mobject\u001b[0m\u001b[1;33m.\u001b[0m\u001b[0m__getattribute__\u001b[0m\u001b[1;33m(\u001b[0m\u001b[0mself\u001b[0m\u001b[1;33m,\u001b[0m \u001b[0mname\u001b[0m\u001b[1;33m)\u001b[0m\u001b[1;33m\u001b[0m\u001b[1;33m\u001b[0m\u001b[0m\n\u001b[0m",
      "\u001b[1;31mAttributeError\u001b[0m: 'DataFrame' object has no attribute 'save'"
     ]
    }
   ],
   "source": [
    "# df_sorted.save"
   ]
  },
  {
   "cell_type": "code",
   "execution_count": 18,
   "id": "fd4d8d0e-6eff-4329-910a-8716f0d7c7da",
   "metadata": {},
   "outputs": [],
   "source": [
    "df_sorted.to_excel('filtered_data.xlsx', index=False)"
   ]
  },
  {
   "cell_type": "code",
   "execution_count": 19,
   "id": "7e624932-70d6-4e7e-b45b-3a2c862a58e6",
   "metadata": {},
   "outputs": [
    {
     "data": {
      "text/html": [
       "<div>\n",
       "<style scoped>\n",
       "    .dataframe tbody tr th:only-of-type {\n",
       "        vertical-align: middle;\n",
       "    }\n",
       "\n",
       "    .dataframe tbody tr th {\n",
       "        vertical-align: top;\n",
       "    }\n",
       "\n",
       "    .dataframe thead th {\n",
       "        text-align: right;\n",
       "    }\n",
       "</style>\n",
       "<table border=\"1\" class=\"dataframe\">\n",
       "  <thead>\n",
       "    <tr style=\"text-align: right;\">\n",
       "      <th></th>\n",
       "      <th>Name</th>\n",
       "      <th>cgpa</th>\n",
       "      <th>Gender_M</th>\n",
       "    </tr>\n",
       "  </thead>\n",
       "  <tbody>\n",
       "    <tr>\n",
       "      <th>0</th>\n",
       "      <td>ADE SHUBHAM PRADEEP</td>\n",
       "      <td>8.4</td>\n",
       "      <td>1</td>\n",
       "    </tr>\n",
       "  </tbody>\n",
       "</table>\n",
       "</div>"
      ],
      "text/plain": [
       "                  Name  cgpa  Gender_M\n",
       "0  ADE SHUBHAM PRADEEP   8.4         1"
      ]
     },
     "execution_count": 19,
     "metadata": {},
     "output_type": "execute_result"
    }
   ],
   "source": [
    "df.head(1)"
   ]
  },
  {
   "cell_type": "code",
   "execution_count": 22,
   "id": "7c6afd97-5eb3-4a09-912b-57dc33b2bef4",
   "metadata": {},
   "outputs": [
    {
     "data": {
      "image/png": "[encoded data removed]",
      "text/plain": [
       "<Figure size 640x480 with 1 Axes>"
      ]
     },
     "metadata": {},
     "output_type": "display_data"
    }
   ],
   "source": [
    "sns.scatterplot(x=[i for i in range(0,df.shape[0])],y=\"cgpa\", data=df)\n",
    "plt.grid()"
   ]
  },
  {
   "cell_type": "code",
   "execution_count": 32,
   "id": "cde72fde-d380-4afc-a62a-bcc11610a69f",
   "metadata": {},
   "outputs": [
    {
     "name": "stderr",
     "output_type": "stream",
     "text": [
      "C:\\Users\\91935\\AppData\\Local\\Temp\\ipykernel_7420\\515481754.py:1: UserWarning: \n",
      "\n",
      "`distplot` is a deprecated function and will be removed in seaborn v0.14.0.\n",
      "\n",
      "Please adapt your code to use either `displot` (a figure-level function with\n",
      "similar flexibility) or `histplot` (an axes-level function for histograms).\n",
      "\n",
      "For a guide to updating your code to use the new functions, please see\n",
      "https://gist.github.com/mwaskom/de44147ed2974457ad6372750bbe5751\n",
      "\n",
      "  sns.distplot(df['cgpa'])\n"
     ]
    },
    {
     "data": {
      "image/png": "[encoded data removed]",
      "text/plain": [
       "<Figure size 640x480 with 1 Axes>"
      ]
     },
     "metadata": {},
     "output_type": "display_data"
    }
   ],
   "source": [
    "sns.distplot(df['cgpa'])\n",
    "plt.grid(axis=\"x\")"
   ]
  },
  {
   "cell_type": "code",
   "execution_count": 38,
   "id": "8bf31a5e-097d-4498-8e8f-9e3d0d712af5",
   "metadata": {},
   "outputs": [],
   "source": [
    "from sklearn.preprocessing import FunctionTransformer\n",
    "import numpy as np"
   ]
  },
  {
   "cell_type": "code",
   "execution_count": 40,
   "id": "3acf50e5-ee8b-4e0b-b60c-57418645a8fa",
   "metadata": {},
   "outputs": [],
   "source": [
    "ft=FunctionTransformer(func=np.log1p)"
   ]
  },
  {
   "cell_type": "code",
   "execution_count": 42,
   "id": "3205cbfd-33ac-4169-ae3a-ae80dcb17513",
   "metadata": {},
   "outputs": [],
   "source": [
    "ft.fit(df[\"cgpa\"]);"
   ]
  },
  {
   "cell_type": "code",
   "execution_count": 46,
   "id": "848f9fc6-6067-4f39-b54c-7b35a5425d10",
   "metadata": {},
   "outputs": [],
   "source": [
    "df[\"new_cgpa\"]=pd.DataFrame(ft.transform(df[\"cgpa\"]))"
   ]
  },
  {
   "cell_type": "code",
   "execution_count": 48,
   "id": "29c63823-e226-4068-ab94-4e3c8963fb3e",
   "metadata": {},
   "outputs": [
    {
     "data": {
      "text/html": [
       "<div>\n",
       "<style scoped>\n",
       "    .dataframe tbody tr th:only-of-type {\n",
       "        vertical-align: middle;\n",
       "    }\n",
       "\n",
       "    .dataframe tbody tr th {\n",
       "        vertical-align: top;\n",
       "    }\n",
       "\n",
       "    .dataframe thead th {\n",
       "        text-align: right;\n",
       "    }\n",
       "</style>\n",
       "<table border=\"1\" class=\"dataframe\">\n",
       "  <thead>\n",
       "    <tr style=\"text-align: right;\">\n",
       "      <th></th>\n",
       "      <th>Name</th>\n",
       "      <th>cgpa</th>\n",
       "      <th>Gender_M</th>\n",
       "      <th>new_cgpa</th>\n",
       "    </tr>\n",
       "  </thead>\n",
       "  <tbody>\n",
       "    <tr>\n",
       "      <th>0</th>\n",
       "      <td>ADE SHUBHAM PRADEEP</td>\n",
       "      <td>8.40</td>\n",
       "      <td>1</td>\n",
       "      <td>2.240710</td>\n",
       "    </tr>\n",
       "    <tr>\n",
       "      <th>1</th>\n",
       "      <td>ADITYA DATTATRAY TAJANE</td>\n",
       "      <td>8.19</td>\n",
       "      <td>1</td>\n",
       "      <td>2.218116</td>\n",
       "    </tr>\n",
       "    <tr>\n",
       "      <th>2</th>\n",
       "      <td>ADITYA PAWAR</td>\n",
       "      <td>7.43</td>\n",
       "      <td>1</td>\n",
       "      <td>2.131797</td>\n",
       "    </tr>\n",
       "    <tr>\n",
       "      <th>3</th>\n",
       "      <td>AKANKSHA DILIP DHEBE</td>\n",
       "      <td>0.00</td>\n",
       "      <td>0</td>\n",
       "      <td>0.000000</td>\n",
       "    </tr>\n",
       "    <tr>\n",
       "      <th>4</th>\n",
       "      <td>AKASH DEEPAK SHRIVASTAV</td>\n",
       "      <td>6.88</td>\n",
       "      <td>1</td>\n",
       "      <td>2.064328</td>\n",
       "    </tr>\n",
       "    <tr>\n",
       "      <th>...</th>\n",
       "      <td>...</td>\n",
       "      <td>...</td>\n",
       "      <td>...</td>\n",
       "      <td>...</td>\n",
       "    </tr>\n",
       "    <tr>\n",
       "      <th>74</th>\n",
       "      <td>WANJARI GAURAV SURENDRA</td>\n",
       "      <td>8.26</td>\n",
       "      <td>1</td>\n",
       "      <td>2.225704</td>\n",
       "    </tr>\n",
       "    <tr>\n",
       "      <th>75</th>\n",
       "      <td>YELURE MAHADEV MALLINATH</td>\n",
       "      <td>8.45</td>\n",
       "      <td>1</td>\n",
       "      <td>2.246015</td>\n",
       "    </tr>\n",
       "    <tr>\n",
       "      <th>76</th>\n",
       "      <td>YOJIT PREMENDRA WAGHMARE</td>\n",
       "      <td>7.93</td>\n",
       "      <td>1</td>\n",
       "      <td>2.189416</td>\n",
       "    </tr>\n",
       "    <tr>\n",
       "      <th>77</th>\n",
       "      <td>LOKHANDE NISHANT VITTHAL</td>\n",
       "      <td>0.00</td>\n",
       "      <td>1</td>\n",
       "      <td>0.000000</td>\n",
       "    </tr>\n",
       "    <tr>\n",
       "      <th>78</th>\n",
       "      <td>SHINDE POOJA RAJU</td>\n",
       "      <td>0.00</td>\n",
       "      <td>0</td>\n",
       "      <td>0.000000</td>\n",
       "    </tr>\n",
       "  </tbody>\n",
       "</table>\n",
       "<p>79 rows × 4 columns</p>\n",
       "</div>"
      ],
      "text/plain": [
       "                        Name  cgpa  Gender_M  new_cgpa\n",
       "0        ADE SHUBHAM PRADEEP  8.40         1  2.240710\n",
       "1    ADITYA DATTATRAY TAJANE  8.19         1  2.218116\n",
       "2               ADITYA PAWAR  7.43         1  2.131797\n",
       "3       AKANKSHA DILIP DHEBE  0.00         0  0.000000\n",
       "4    AKASH DEEPAK SHRIVASTAV  6.88         1  2.064328\n",
       "..                       ...   ...       ...       ...\n",
       "74   WANJARI GAURAV SURENDRA  8.26         1  2.225704\n",
       "75  YELURE MAHADEV MALLINATH  8.45         1  2.246015\n",
       "76  YOJIT PREMENDRA WAGHMARE  7.93         1  2.189416\n",
       "77  LOKHANDE NISHANT VITTHAL  0.00         1  0.000000\n",
       "78         SHINDE POOJA RAJU  0.00         0  0.000000\n",
       "\n",
       "[79 rows x 4 columns]"
      ]
     },
     "execution_count": 48,
     "metadata": {},
     "output_type": "execute_result"
    }
   ],
   "source": [
    "df"
   ]
  },
  {
   "cell_type": "code",
   "execution_count": 58,
   "id": "62e39493-bead-4891-9f82-44936b36299a",
   "metadata": {},
   "outputs": [
    {
     "name": "stderr",
     "output_type": "stream",
     "text": [
      "C:\\Users\\91935\\AppData\\Local\\Temp\\ipykernel_7420\\3764873117.py:3: UserWarning: \n",
      "\n",
      "`distplot` is a deprecated function and will be removed in seaborn v0.14.0.\n",
      "\n",
      "Please adapt your code to use either `displot` (a figure-level function with\n",
      "similar flexibility) or `histplot` (an axes-level function for histograms).\n",
      "\n",
      "For a guide to updating your code to use the new functions, please see\n",
      "https://gist.github.com/mwaskom/de44147ed2974457ad6372750bbe5751\n",
      "\n",
      "  sns.distplot(df['cgpa'])\n",
      "C:\\Users\\91935\\AppData\\Local\\Temp\\ipykernel_7420\\3764873117.py:5: UserWarning: \n",
      "\n",
      "`distplot` is a deprecated function and will be removed in seaborn v0.14.0.\n",
      "\n",
      "Please adapt your code to use either `displot` (a figure-level function with\n",
      "similar flexibility) or `histplot` (an axes-level function for histograms).\n",
      "\n",
      "For a guide to updating your code to use the new functions, please see\n",
      "https://gist.github.com/mwaskom/de44147ed2974457ad6372750bbe5751\n",
      "\n",
      "  sns.distplot(df[\"new_cgpa\"])\n"
     ]
    },
    {
     "data": {
      "image/png": "[encoded data removed]",
      "text/plain": [
       "<Figure size 640x480 with 2 Axes>"
      ]
     },
     "metadata": {},
     "output_type": "display_data"
    }
   ],
   "source": [
    "plt.subplot(1,2,1)\n",
    "plt.title(\"previous\")\n",
    "sns.distplot(df['cgpa'])\n",
    "plt.subplot(1,2,2)\n",
    "sns.distplot(df[\"new_cgpa\"])\n",
    "plt.grid(axis=\"x\")\n",
    "plt.show()"
   ]
  },
  {
   "cell_type": "code",
   "execution_count": 74,
   "id": "9e2d334b-490a-4260-8b63-cdee37943f86",
   "metadata": {},
   "outputs": [
    {
     "ename": "TypeError",
     "evalue": "scatterplot() takes from 0 to 1 positional arguments but 2 were given",
     "output_type": "error",
     "traceback": [
      "\u001b[1;31m---------------------------------------------------------------------------\u001b[0m",
      "\u001b[1;31mTypeError\u001b[0m                                 Traceback (most recent call last)",
      "Cell \u001b[1;32mIn[74], line 1\u001b[0m\n\u001b[1;32m----> 1\u001b[0m sns\u001b[38;5;241m.\u001b[39mscatterplot(df[\u001b[38;5;124m'\u001b[39m\u001b[38;5;124mcgpa\u001b[39m\u001b[38;5;124m'\u001b[39m],df[\u001b[38;5;124m\"\u001b[39m\u001b[38;5;124mnew_cgpa\u001b[39m\u001b[38;5;124m\"\u001b[39m],c\u001b[38;5;241m=\u001b[39m\u001b[38;5;124m\"\u001b[39m\u001b[38;5;124mred\u001b[39m\u001b[38;5;124m\"\u001b[39m)\n",
      "\u001b[1;31mTypeError\u001b[0m: scatterplot() takes from 0 to 1 positional arguments but 2 were given"
     ]
    }
   ],
   "source": [
    "sns.scatterplot(df['cgpa'],df[\"new_cgpa\"],c=\"red\")\n"
   ]
  },
  {
   "cell_type": "code",
   "execution_count": null,
   "id": "7a2769d5-887a-4355-96df-5720a7b2cdaf",
   "metadata": {},
   "outputs": [],
   "source": []
  }
 ],
 "metadata": {
  "kernelspec": {
   "display_name": "Python 3 (ipykernel)",
   "language": "python",
   "name": "python3"
  },
  "language_info": {
   "codemirror_mode": {
    "name": "ipython",
    "version": 3
   },
   "file_extension": ".py",
   "mimetype": "text/x-python",
   "name": "python",
   "nbconvert_exporter": "python",
   "pygments_lexer": "ipython3",
   "version": "3.12.4"
  }
 },
 "nbformat": 4,
 "nbformat_minor": 5
}
