{
 "cells": [
  {
   "cell_type": "code",
   "execution_count": 1,
   "id": "1c658be9-a65e-46a2-a315-af7cc6fcd61d",
   "metadata": {},
   "outputs": [],
   "source": [
    "import pandas as pd \n"
   ]
  },
  {
   "cell_type": "code",
   "execution_count": 3,
   "id": "b056f53f-a435-4af1-9fa1-150acdfd8f37",
   "metadata": {},
   "outputs": [],
   "source": [
    "df=pd.read_csv(\"placement.csv\")"
   ]
  },
  {
   "cell_type": "code",
   "execution_count": 5,
   "id": "6194ac75-69ab-4441-93ed-fa02f39e82aa",
   "metadata": {},
   "outputs": [],
   "source": [
    "new_df=df.head(10)\n"
   ]
  },
  {
   "cell_type": "code",
   "execution_count": 7,
   "id": "efe0db5f-ec70-4003-b67c-92f80ddab824",
   "metadata": {},
   "outputs": [],
   "source": [
    "x=new_df[['cgpa']]\n",
    "y=new_df[\"package\"]"
   ]
  },
  {
   "cell_type": "code",
   "execution_count": 9,
   "id": "62c0f522-c2a0-4415-baf3-e7fd5b88e307",
   "metadata": {},
   "outputs": [],
   "source": [
    "from sklearn.model_selection import LeaveOneOut,LeavePOut,KFold,StratifiedKFold"
   ]
  },
  {
   "cell_type": "code",
   "execution_count": 11,
   "id": "3c2012ab-4483-4b5e-9828-60bedc177dac",
   "metadata": {},
   "outputs": [],
   "source": [
    "from sklearn.model_selection import cross_val_score"
   ]
  },
  {
   "cell_type": "code",
   "execution_count": 13,
   "id": "1afcee86-9e41-4ce1-83a8-ab96a03a7392",
   "metadata": {},
   "outputs": [],
   "source": [
    "from sklearn.linear_model import LinearRegression"
   ]
  },
  {
   "cell_type": "code",
   "execution_count": 23,
   "id": "c9ab7f3c-9b5c-4fa5-9a24-fac9bcdc371f",
   "metadata": {},
   "outputs": [
    {
     "data": {
      "text/plain": [
       "array([ 0.63188566, -0.39036679,  0.59227437])"
      ]
     },
     "execution_count": 23,
     "metadata": {},
     "output_type": "execute_result"
    }
   ],
   "source": [
    "\n",
    "cross_val_score(LinearRegression(),x,y,cv=KFold(n_splits=3))\n"
   ]
  },
  {
   "cell_type": "code",
   "execution_count": null,
   "id": "9d4d0cd5-ed01-4f01-a55e-4005d3d4759a",
   "metadata": {},
   "outputs": [],
   "source": []
  }
 ],
 "metadata": {
  "kernelspec": {
   "display_name": "Python 3 (ipykernel)",
   "language": "python",
   "name": "python3"
  },
  "language_info": {
   "codemirror_mode": {
    "name": "ipython",
    "version": 3
   },
   "file_extension": ".py",
   "mimetype": "text/x-python",
   "name": "python",
   "nbconvert_exporter": "python",
   "pygments_lexer": "ipython3",
   "version": "3.12.4"
  }
 },
 "nbformat": 4,
 "nbformat_minor": 5
}
