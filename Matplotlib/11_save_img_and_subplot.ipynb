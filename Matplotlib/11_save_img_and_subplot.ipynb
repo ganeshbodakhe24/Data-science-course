{
 "cells": [
  {
   "cell_type": "markdown",
   "id": "05997fab-c98f-4769-bcfb-ba4c9dee1f4d",
   "metadata": {},
   "source": [
    "# subplot"
   ]
  },
  {
   "cell_type": "code",
   "execution_count": 2,
   "id": "72cad735-56ff-404f-b496-787a9c0630dc",
   "metadata": {},
   "outputs": [],
   "source": [
    "import matplotlib.pyplot as plt"
   ]
  },
  {
   "cell_type": "code",
   "execution_count": 4,
   "id": "3d82ef0a-91a4-4975-987c-d37d47282a96",
   "metadata": {},
   "outputs": [],
   "source": [
    "x=[1,2,3,4,5,6,7,8,9]\n",
    "y=[1,2,3,4,5,6,7,8,9]"
   ]
  },
  {
   "cell_type": "code",
   "execution_count": null,
   "id": "d6798681-4e10-498a-9c1f-37255754765f",
   "metadata": {},
   "outputs": [],
   "source": [
    "\n",
    "plt.subplot(2,2,1)\n",
    "plt.plot(x,y,color='red')\n",
    "plt.subplot(2,2,2)\n",
    "plt.plot(x,y,color='g')\n",
    "plt.subplot(2,2,3)\n",
    "plt.plot(x,y,color='y')\n",
    "plt.subplot(2,2,4)\n",
    "plt.plot(x,y,color='m')\n",
    "plt.savefig(\"fig1.jpeg\",dpi=2000)\n",
    "plt.show()"
   ]
  },
  {
   "cell_type": "code",
   "execution_count": null,
   "id": "96be4684-0b70-498d-9b49-1febdd7a7eeb",
   "metadata": {},
   "outputs": [],
   "source": []
  }
 ],
 "metadata": {
  "kernelspec": {
   "display_name": "Python 3 (ipykernel)",
   "language": "python",
   "name": "python3"
  },
  "language_info": {
   "codemirror_mode": {
    "name": "ipython",
    "version": 3
   },
   "file_extension": ".py",
   "mimetype": "text/x-python",
   "name": "python",
   "nbconvert_exporter": "python",
   "pygments_lexer": "ipython3",
   "version": "3.12.4"
  }
 },
 "nbformat": 4,
 "nbformat_minor": 5
}
