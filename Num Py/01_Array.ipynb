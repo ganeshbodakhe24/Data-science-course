{
 "cells": [
  {
   "cell_type": "code",
   "execution_count": 5,
   "id": "ce28c673-1773-4306-96f4-ab289ca79307",
   "metadata": {},
   "outputs": [],
   "source": [
    "# to import the numpy we can use\n",
    "import numpy as np\n",
    "# as = alias  "
   ]
  },
  {
   "cell_type": "code",
   "execution_count": 11,
   "id": "ac062ffa-6f29-48fd-9025-8741332914e3",
   "metadata": {},
   "outputs": [],
   "source": [
    "# make array\n",
    "l=[1,2,3,4,5,6]\n",
    "y=np.array(l)"
   ]
  },
  {
   "cell_type": "code",
   "execution_count": 13,
   "id": "fea869d3-5232-47cb-b3f6-edf814af01db",
   "metadata": {},
   "outputs": [
    {
     "name": "stdout",
     "output_type": "stream",
     "text": [
      "<class 'numpy.ndarray'>\n"
     ]
    }
   ],
   "source": [
    "print(type(y))"
   ]
  },
  {
   "cell_type": "code",
   "execution_count": 15,
   "id": "7e638568-b203-4b30-8272-0dd5d845c3ff",
   "metadata": {},
   "outputs": [
    {
     "name": "stdout",
     "output_type": "stream",
     "text": [
      "<class 'list'>\n"
     ]
    }
   ],
   "source": [
    "l=[1,2,3,4,4,5]\n",
    "print(type(l))"
   ]
  },
  {
   "cell_type": "code",
   "execution_count": 25,
   "id": "298422c0-0f8c-43ae-99bf-8730520daaab",
   "metadata": {},
   "outputs": [],
   "source": [
    "# the numpy is easy than list"
   ]
  },
  {
   "cell_type": "code",
   "execution_count": 19,
   "id": "618c82e7-3998-492c-81f0-280b88a4ff19",
   "metadata": {},
   "outputs": [],
   "source": [
    "# easy numerical operations"
   ]
  },
  {
   "cell_type": "code",
   "execution_count": 23,
   "id": "85c695ef-44bc-4986-b2b8-9870fe82734d",
   "metadata": {},
   "outputs": [],
   "source": [
    "# consumbe less memory"
   ]
  },
  {
   "cell_type": "code",
   "execution_count": 27,
   "id": "68974b17-1e42-4c44-8f1e-24423e49d0d1",
   "metadata": {},
   "outputs": [],
   "source": [
    "# ue have other inbuil function in numpy"
   ]
  }
 ],
 "metadata": {
  "kernelspec": {
   "display_name": "Python 3 (ipykernel)",
   "language": "python",
   "name": "python3"
  },
  "language_info": {
   "codemirror_mode": {
    "name": "ipython",
    "version": 3
   },
   "file_extension": ".py",
   "mimetype": "text/x-python",
   "name": "python",
   "nbconvert_exporter": "python",
   "pygments_lexer": "ipython3",
   "version": "3.12.4"
  }
 },
 "nbformat": 4,
 "nbformat_minor": 5
}
