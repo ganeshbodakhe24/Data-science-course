{
 "cells": [
  {
   "cell_type": "code",
   "execution_count": 1,
   "id": "69d8e182-b586-40da-8ece-0863170be73e",
   "metadata": {},
   "outputs": [],
   "source": [
    "import numpy as np"
   ]
  },
  {
   "cell_type": "markdown",
   "id": "fc475ea7-5028-4f4f-bb72-c1e680624704",
   "metadata": {},
   "source": [
    "# array filed with zeros"
   ]
  },
  {
   "cell_type": "code",
   "execution_count": 8,
   "id": "c691bf3d-9c55-48b9-ba35-484b968c39ff",
   "metadata": {},
   "outputs": [
    {
     "name": "stdout",
     "output_type": "stream",
     "text": [
      "[0. 0. 0. 0.]\n"
     ]
    }
   ],
   "source": [
    "arr_zero=np.zeros(4)\n",
    "print(arr_zero)"
   ]
  },
  {
   "cell_type": "markdown",
   "id": "815c41e8-118c-4b8c-927d-ad923ffc8acb",
   "metadata": {},
   "source": [
    "# array with 1"
   ]
  },
  {
   "cell_type": "code",
   "execution_count": 14,
   "id": "61c16e64-131b-4ddf-8dd4-487affe0d7cb",
   "metadata": {},
   "outputs": [
    {
     "data": {
      "text/plain": [
       "array([1., 1., 1., 1.])"
      ]
     },
     "execution_count": 14,
     "metadata": {},
     "output_type": "execute_result"
    }
   ],
   "source": [
    "arr_one=np.ones(4)\n",
    "arr_one"
   ]
  },
  {
   "cell_type": "code",
   "execution_count": 18,
   "id": "0e97e46e-543d-4cc7-8b8b-6e72a898115e",
   "metadata": {},
   "outputs": [
    {
     "name": "stdout",
     "output_type": "stream",
     "text": [
      "[[1. 1. 1. 1. 1. 1. 1. 1.]\n",
      " [1. 1. 1. 1. 1. 1. 1. 1.]\n",
      " [1. 1. 1. 1. 1. 1. 1. 1.]\n",
      " [1. 1. 1. 1. 1. 1. 1. 1.]]\n"
     ]
    }
   ],
   "source": [
    "arr_one=np.ones((4,8))\n",
    "print(arr_one)"
   ]
  },
  {
   "cell_type": "markdown",
   "id": "cfa9bb95-b44e-492c-9b5b-cb8e9a572bf6",
   "metadata": {},
   "source": [
    "# array with empty value"
   ]
  },
  {
   "cell_type": "code",
   "execution_count": 25,
   "id": "928b173e-021f-4c80-9b64-fca32ff9154b",
   "metadata": {},
   "outputs": [
    {
     "name": "stdout",
     "output_type": "stream",
     "text": [
      "[2.12199579e-314 4.67296746e-307 5.07899484e-321 3.79442416e-321\n",
      " 1.71611676e-317]\n"
     ]
    }
   ],
   "source": [
    "arr_empty=np.empty(5)\n",
    "print(arr_empty)\n",
    "# walue is gate is row value of memory"
   ]
  },
  {
   "cell_type": "markdown",
   "id": "ee0f3c0e-bca0-4b63-af7e-0ac8bbfc3c14",
   "metadata": {},
   "source": [
    "# range"
   ]
  },
  {
   "cell_type": "code",
   "execution_count": 47,
   "id": "4960f5c5-dd1c-4df6-a95a-b174569e5e7b",
   "metadata": {},
   "outputs": [
    {
     "name": "stdout",
     "output_type": "stream",
     "text": [
      "[0 1 2 3 4 5 6 7 8 9]\n"
     ]
    }
   ],
   "source": [
    "arr_range=np.arange(0,10)\n",
    "print(arr_range)"
   ]
  },
  {
   "cell_type": "markdown",
   "id": "0083c41b-1c8b-4c03-841e-ac3251124294",
   "metadata": {},
   "source": [
    "# diagonal filed with one"
   ]
  },
  {
   "cell_type": "code",
   "execution_count": 52,
   "id": "10994595-1655-46c8-9ef5-e0af3c3ee0b0",
   "metadata": {},
   "outputs": [
    {
     "name": "stdout",
     "output_type": "stream",
     "text": [
      "[[1. 0. 0. 0. 0.]\n",
      " [0. 1. 0. 0. 0.]\n",
      " [0. 0. 1. 0. 0.]\n",
      " [0. 0. 0. 1. 0.]\n",
      " [0. 0. 0. 0. 1.]]\n"
     ]
    }
   ],
   "source": [
    "arr_digonal_wiht_1=np.eye(5)\n",
    "print(arr_digonal_wiht_1)"
   ]
  },
  {
   "cell_type": "markdown",
   "id": "5c9bd1d2-c651-48c8-9fc6-7a9596bc8535",
   "metadata": {},
   "source": [
    "# array element space between them - linspace"
   ]
  },
  {
   "cell_type": "code",
   "execution_count": 62,
   "id": "cb895e07-dd55-4efb-9927-1fbf597c6477",
   "metadata": {},
   "outputs": [
    {
     "name": "stdout",
     "output_type": "stream",
     "text": [
      "[ 0.  5. 10. 15. 20.]\n"
     ]
    }
   ],
   "source": [
    "arr_space=np.linspace(0,20,5)\n",
    "print(arr_space)"
   ]
  },
  {
   "cell_type": "code",
   "execution_count": null,
   "id": "118cf84c-271b-49a7-a17b-b06e3403ad06",
   "metadata": {},
   "outputs": [],
   "source": []
  }
 ],
 "metadata": {
  "kernelspec": {
   "display_name": "Python 3 (ipykernel)",
   "language": "python",
   "name": "python3"
  },
  "language_info": {
   "codemirror_mode": {
    "name": "ipython",
    "version": 3
   },
   "file_extension": ".py",
   "mimetype": "text/x-python",
   "name": "python",
   "nbconvert_exporter": "python",
   "pygments_lexer": "ipython3",
   "version": "3.12.4"
  }
 },
 "nbformat": 4,
 "nbformat_minor": 5
}
