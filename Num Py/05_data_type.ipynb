{
 "cells": [
  {
   "cell_type": "markdown",
   "id": "e9ef6667-6703-4375-8665-183973934c20",
   "metadata": {},
   "source": [
    "# Data type"
   ]
  },
  {
   "cell_type": "code",
   "execution_count": 6,
   "id": "92e4b8ed-80b0-446e-8d95-4c59e81761ee",
   "metadata": {},
   "outputs": [],
   "source": [
    "# to get data type\n",
    "import numpy as np"
   ]
  },
  {
   "cell_type": "code",
   "execution_count": 10,
   "id": "0bcbd1b8-4737-4e0f-b05b-e4de00341d3b",
   "metadata": {},
   "outputs": [
    {
     "name": "stdout",
     "output_type": "stream",
     "text": [
      "[3 3 2 4 3 5 3]\n",
      "int32\n"
     ]
    }
   ],
   "source": [
    "a=np.array([3,3,2,4,3,5,3])\n",
    "print(a)\n",
    "print(a.dtype)"
   ]
  },
  {
   "cell_type": "code",
   "execution_count": 18,
   "id": "1eb2cd0b-4e29-40f3-9838-6f3ec87328c8",
   "metadata": {},
   "outputs": [
    {
     "name": "stdout",
     "output_type": "stream",
     "text": [
      "int64\n"
     ]
    }
   ],
   "source": [
    "# convert data type\n",
    "a=np.array([2,3,4,3,55,3],dtype=np.int64)\n",
    "print(a.dtype)"
   ]
  },
  {
   "cell_type": "raw",
   "id": "e733caa9-e7b8-4ca3-b35a-40c63127fe65",
   "metadata": {},
   "source": [
    "o-object\n",
    "f-float\n",
    "i-int\n",
    "b-boolean\n"
   ]
  },
  {
   "cell_type": "code",
   "execution_count": 24,
   "id": "cd8b4a4f-74fd-4949-b6d0-f3daea430a4f",
   "metadata": {},
   "outputs": [
    {
     "name": "stdout",
     "output_type": "stream",
     "text": [
      "float32\n",
      "[2. 3. 3. 5.]\n"
     ]
    }
   ],
   "source": [
    "a=np.array([2,3,3,5],dtype='f')\n",
    "print(a.dtype)\n",
    "print(a)"
   ]
  },
  {
   "cell_type": "markdown",
   "id": "e43c7490-9a1d-4438-905e-2ea152c577f6",
   "metadata": {},
   "source": [
    "# change by function"
   ]
  },
  {
   "cell_type": "code",
   "execution_count": 27,
   "id": "0d9e794e-54e3-4838-a3ee-5cdb968d4b0e",
   "metadata": {},
   "outputs": [
    {
     "name": "stdout",
     "output_type": "stream",
     "text": [
      "float64\n"
     ]
    }
   ],
   "source": [
    "a=np.array([2,3,9,3,4])\n",
    "m=np.float64(a)\n",
    "print(m.dtype)"
   ]
  },
  {
   "cell_type": "code",
   "execution_count": 29,
   "id": "90e1bf83-55dc-4c20-b03b-cbd5a0ba701e",
   "metadata": {},
   "outputs": [],
   "source": [
    "# using in data sciene as "
   ]
  },
  {
   "cell_type": "code",
   "execution_count": 37,
   "id": "cf973c32-7d7d-4d39-ba70-6d791918025b",
   "metadata": {},
   "outputs": [
    {
     "name": "stdout",
     "output_type": "stream",
     "text": [
      "float64\n"
     ]
    }
   ],
   "source": [
    "x=np.array([2,3,4,3,2,3])\n",
    "x=x.astype(float)\n",
    "print(x.dtype)\n"
   ]
  },
  {
   "cell_type": "code",
   "execution_count": null,
   "id": "0c49d49e-c937-4c83-afdb-b05c9c9e00e3",
   "metadata": {},
   "outputs": [],
   "source": []
  }
 ],
 "metadata": {
  "kernelspec": {
   "display_name": "Python 3 (ipykernel)",
   "language": "python",
   "name": "python3"
  },
  "language_info": {
   "codemirror_mode": {
    "name": "ipython",
    "version": 3
   },
   "file_extension": ".py",
   "mimetype": "text/x-python",
   "name": "python",
   "nbconvert_exporter": "python",
   "pygments_lexer": "ipython3",
   "version": "3.12.4"
  }
 },
 "nbformat": 4,
 "nbformat_minor": 5
}
