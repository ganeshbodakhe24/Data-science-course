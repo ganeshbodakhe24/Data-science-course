{
 "cells": [
  {
   "cell_type": "code",
   "execution_count": 3,
   "id": "0ccf03ab-e95d-4257-8e5b-f68a78a27b3d",
   "metadata": {},
   "outputs": [],
   "source": [
    "import numpy as np\n"
   ]
  },
  {
   "cell_type": "markdown",
   "id": "4e7064ce-0f26-48ac-b564-e993a62bcbf6",
   "metadata": {},
   "source": [
    "# search"
   ]
  },
  {
   "cell_type": "code",
   "execution_count": 10,
   "id": "6f7d22d3-c107-43ce-aa5c-8bafca091c7e",
   "metadata": {},
   "outputs": [
    {
     "name": "stdout",
     "output_type": "stream",
     "text": [
      "(array([ 2,  8, 10], dtype=int64),)\n",
      "(array([1], dtype=int64),)\n"
     ]
    }
   ],
   "source": [
    "a=np.array([1,3,5,2,4,6,8,7,5,4,5])\n",
    "print(np.where(a==5))\n",
    "print(np.where(a==3))"
   ]
  },
  {
   "cell_type": "markdown",
   "id": "dbb81b4e-9646-4261-854a-fecdf9d05328",
   "metadata": {},
   "source": [
    "# search sorted"
   ]
  },
  {
   "cell_type": "raw",
   "id": "44100794-eb60-45ca-8fb8-87e5267ac1ec",
   "metadata": {},
   "source": [
    "if i have sorted array and i have put an element in it then how i can put it "
   ]
  },
  {
   "cell_type": "code",
   "execution_count": 21,
   "id": "7de5dab3-1ad6-4b0d-8a0e-d556534c4d8f",
   "metadata": {},
   "outputs": [],
   "source": [
    "a=np.array([1,2,3,4,6,7,8,9])\n",
    "ans=np.searchsorted(a,5)\n"
   ]
  },
  {
   "cell_type": "markdown",
   "id": "07228d6f-729f-47eb-8893-0d8c941f7454",
   "metadata": {},
   "source": [
    "# filter"
   ]
  },
  {
   "cell_type": "code",
   "execution_count": 30,
   "id": "306a940f-8cb7-4584-83a9-46aa568e7165",
   "metadata": {},
   "outputs": [
    {
     "data": {
      "text/plain": [
       "array([1, 3, 6])"
      ]
     },
     "execution_count": 30,
     "metadata": {},
     "output_type": "execute_result"
    }
   ],
   "source": [
    "a=np.array([1,2,3,4,6])\n",
    "f=[True,False,True,False,True]\n",
    "new_arr=a[f]\n",
    "new_arr\n",
    "# get filtered false data only true data will come"
   ]
  },
  {
   "cell_type": "markdown",
   "id": "a8b84d39-e63e-48e8-92b5-d0293ed91d0c",
   "metadata": {},
   "source": [
    "# sort array"
   ]
  },
  {
   "cell_type": "code",
   "execution_count": 35,
   "id": "da58e115-d13d-4bce-baa1-3c64d83c5272",
   "metadata": {},
   "outputs": [
    {
     "data": {
      "text/plain": [
       "array([2, 2, 3, 3, 4, 4, 4, 5, 6, 6])"
      ]
     },
     "execution_count": 35,
     "metadata": {},
     "output_type": "execute_result"
    }
   ],
   "source": [
    "a=np.array([2,5,3,2,4,6,4,3,6,4])\n",
    "new_arr=np.sort(a)\n",
    "new_arr"
   ]
  },
  {
   "cell_type": "code",
   "execution_count": null,
   "id": "57b2a9e2-048b-4a41-a0cc-220b2fc1872f",
   "metadata": {},
   "outputs": [],
   "source": []
  }
 ],
 "metadata": {
  "kernelspec": {
   "display_name": "Python 3 (ipykernel)",
   "language": "python",
   "name": "python3"
  },
  "language_info": {
   "codemirror_mode": {
    "name": "ipython",
    "version": 3
   },
   "file_extension": ".py",
   "mimetype": "text/x-python",
   "name": "python",
   "nbconvert_exporter": "python",
   "pygments_lexer": "ipython3",
   "version": "3.12.4"
  }
 },
 "nbformat": 4,
 "nbformat_minor": 5
}
