{
 "cells": [
  {
   "cell_type": "code",
   "execution_count": 1,
   "id": "4e78c906-6adb-41f1-96c4-fb8887a6dcd1",
   "metadata": {},
   "outputs": [],
   "source": [
    "import numpy as np"
   ]
  },
  {
   "cell_type": "code",
   "execution_count": 5,
   "id": "09507f2a-67fe-406b-9ec4-1a8e5b0a655d",
   "metadata": {},
   "outputs": [
    {
     "name": "stdout",
     "output_type": "stream",
     "text": [
      "[2 3 4] [5 6 7]\n"
     ]
    }
   ],
   "source": [
    "x=np.array([2,3,4])\n",
    "y=np.array([5,6,7])\n",
    "print(x,y)"
   ]
  },
  {
   "cell_type": "code",
   "execution_count": 9,
   "id": "d73768ab-247f-45c4-bd70-a884ce1dc1d9",
   "metadata": {},
   "outputs": [],
   "source": [
    "z=np.concatenate((x,y))"
   ]
  },
  {
   "cell_type": "code",
   "execution_count": 11,
   "id": "76472102-9ad7-4374-8535-1cd981c270dc",
   "metadata": {},
   "outputs": [
    {
     "data": {
      "text/plain": [
       "array([2, 3, 4, 5, 6, 7])"
      ]
     },
     "execution_count": 11,
     "metadata": {},
     "output_type": "execute_result"
    }
   ],
   "source": [
    "z"
   ]
  },
  {
   "cell_type": "code",
   "execution_count": 21,
   "id": "4572ba52-294e-4784-9b35-c411870707ec",
   "metadata": {},
   "outputs": [
    {
     "name": "stdout",
     "output_type": "stream",
     "text": [
      "[[ 2  3  4]\n",
      " [ 8  9 10]]\n",
      "\n",
      "[[ 5  6  7]\n",
      " [11 12 13]]\n"
     ]
    }
   ],
   "source": [
    "x=np.array([[2,3,4],[8,9,10]])\n",
    "y=np.array([[5,6,7],[11,12,13]])\n",
    "print(x)\n",
    "print()\n",
    "print(y)"
   ]
  },
  {
   "cell_type": "code",
   "execution_count": 27,
   "id": "ebddafea-5d76-4c68-8a58-de5f294aded4",
   "metadata": {},
   "outputs": [
    {
     "name": "stdout",
     "output_type": "stream",
     "text": [
      "[[ 2  3  4  5  6  7]\n",
      " [ 8  9 10 11 12 13]]\n",
      "[[ 2  3  4]\n",
      " [ 8  9 10]\n",
      " [ 5  6  7]\n",
      " [11 12 13]]\n"
     ]
    }
   ],
   "source": [
    "x=np.array([[2,3,4],[8,9,10]])\n",
    "y=np.array([[5,6,7],[11,12,13]])\n",
    "z=np.concatenate((x,y),axis=1)\n",
    "print(z)\n",
    "z=np.concatenate((x,y),axis=0)\n",
    "print(z)"
   ]
  },
  {
   "cell_type": "markdown",
   "id": "cef5332b-a97a-4060-bdda-2061dc073af7",
   "metadata": {},
   "source": [
    "# stack"
   ]
  },
  {
   "cell_type": "markdown",
   "id": "8fff6ff5-de10-4aa0-9406-69943d5c5943",
   "metadata": {},
   "source": [
    "we can use stack for joining the array"
   ]
  },
  {
   "cell_type": "code",
   "execution_count": 45,
   "id": "890e2ff6-846d-4901-9256-84fd91a5f738",
   "metadata": {},
   "outputs": [
    {
     "name": "stdout",
     "output_type": "stream",
     "text": [
      "[2 3 4] [5 6 7]\n"
     ]
    },
    {
     "data": {
      "text/plain": [
       "array([[2, 5],\n",
       "       [3, 6],\n",
       "       [4, 7]])"
      ]
     },
     "execution_count": 45,
     "metadata": {},
     "output_type": "execute_result"
    }
   ],
   "source": [
    "x=np.array([2,3,4])\n",
    "y=np.array([5,6,7])\n",
    "print(x,y)\n",
    "z=np.stack((x,y),axis=0)\n",
    "z\n",
    "z=np.stack((x,y),axis=1)\n",
    "z"
   ]
  },
  {
   "cell_type": "code",
   "execution_count": 47,
   "id": "9c1dc76d-e61a-439e-b6a5-4ee0aae5b823",
   "metadata": {},
   "outputs": [
    {
     "name": "stdout",
     "output_type": "stream",
     "text": [
      "[[ 2  3  4]\n",
      " [ 8  9 10]] [[ 5  6  7]\n",
      " [11 12 13]]\n"
     ]
    },
    {
     "data": {
      "text/plain": [
       "array([[[ 2,  3,  4],\n",
       "        [ 5,  6,  7]],\n",
       "\n",
       "       [[ 8,  9, 10],\n",
       "        [11, 12, 13]]])"
      ]
     },
     "execution_count": 47,
     "metadata": {},
     "output_type": "execute_result"
    }
   ],
   "source": [
    "x=np.array([[2,3,4],[8,9,10]])\n",
    "y=np.array([[5,6,7],[11,12,13]])\n",
    "print(x,y)\n",
    "z=np.stack((x,y),axis=0)\n",
    "z\n",
    "z=np.stack((x,y),axis=1)\n",
    "z"
   ]
  },
  {
   "cell_type": "code",
   "execution_count": 55,
   "id": "48885fe8-9d62-48f8-9a19-07e840a78658",
   "metadata": {},
   "outputs": [
    {
     "name": "stdout",
     "output_type": "stream",
     "text": [
      "[[ 2  3  4]\n",
      " [ 8  9 10]] [[ 5  6  7]\n",
      " [11 12 13]]\n"
     ]
    },
    {
     "data": {
      "text/plain": [
       "array([[[ 2,  5],\n",
       "        [ 3,  6],\n",
       "        [ 4,  7]],\n",
       "\n",
       "       [[ 8, 11],\n",
       "        [ 9, 12],\n",
       "        [10, 13]]])"
      ]
     },
     "execution_count": 55,
     "metadata": {},
     "output_type": "execute_result"
    }
   ],
   "source": [
    "x=np.array([[2,3,4],[8,9,10]])\n",
    "y=np.array([[5,6,7],[11,12,13]])\n",
    "print(x,y)\n",
    "z=np.vstack((x,y)) #virtical\n",
    "z\n",
    "z=np.hstack((x,y)) # horizontal\n",
    "z\n",
    "z=np.dstack((x,y)) #height\n",
    "z"
   ]
  },
  {
   "cell_type": "code",
   "execution_count": null,
   "id": "f4a1acdc-e009-4ff5-9126-f6e845944d63",
   "metadata": {},
   "outputs": [],
   "source": []
  },
  {
   "cell_type": "code",
   "execution_count": null,
   "id": "c5417c0f-8bff-4d69-9c17-e000f01ea288",
   "metadata": {},
   "outputs": [],
   "source": []
  }
 ],
 "metadata": {
  "kernelspec": {
   "display_name": "Python 3 (ipykernel)",
   "language": "python",
   "name": "python3"
  },
  "language_info": {
   "codemirror_mode": {
    "name": "ipython",
    "version": 3
   },
   "file_extension": ".py",
   "mimetype": "text/x-python",
   "name": "python",
   "nbconvert_exporter": "python",
   "pygments_lexer": "ipython3",
   "version": "3.12.4"
  }
 },
 "nbformat": 4,
 "nbformat_minor": 5
}
