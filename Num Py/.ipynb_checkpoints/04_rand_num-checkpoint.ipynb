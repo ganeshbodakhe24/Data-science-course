{
 "cells": [
  {
   "cell_type": "code",
   "execution_count": 1,
   "id": "954b8b8c-7b14-4c8b-b65a-2343a6c1b7bb",
   "metadata": {},
   "outputs": [],
   "source": [
    "import numpy as np"
   ]
  },
  {
   "cell_type": "markdown",
   "id": "fd401621-ba14-4c74-8c60-b40cee8154c6",
   "metadata": {},
   "source": [
    "# random"
   ]
  },
  {
   "cell_type": "markdown",
   "id": "2bf4a7d3-408a-4e66-9300-ef637ae2b239",
   "metadata": {},
   "source": [
    "# rand() -range from 0 to 1"
   ]
  },
  {
   "cell_type": "code",
   "execution_count": 9,
   "id": "45a5a3db-1789-4f1a-af24-bea1b8c34408",
   "metadata": {},
   "outputs": [
    {
     "name": "stdout",
     "output_type": "stream",
     "text": [
      "[0.07074032 0.99552549 0.94354314 0.44909009 0.47461195]\n"
     ]
    }
   ],
   "source": [
    "a=np.random.rand(5)\n",
    "print(a)"
   ]
  },
  {
   "cell_type": "code",
   "execution_count": 15,
   "id": "d835f85f-4ae0-4760-aef4-8e6a95cd4d1e",
   "metadata": {},
   "outputs": [
    {
     "name": "stdout",
     "output_type": "stream",
     "text": [
      "[[0.31974194 0.00256256]\n",
      " [0.77088228 0.85391554]\n",
      " [0.92706217 0.78773359]]\n"
     ]
    }
   ],
   "source": [
    "a=np.random.rand(3,2)\n",
    "print(a)"
   ]
  },
  {
   "cell_type": "markdown",
   "id": "ea676551-eed2-4756-a8b2-913935514ba9",
   "metadata": {},
   "source": [
    "# randn()"
   ]
  },
  {
   "cell_type": "code",
   "execution_count": 73,
   "id": "28443559-5039-4764-8119-5c7d6baba7e2",
   "metadata": {},
   "outputs": [
    {
     "name": "stdout",
     "output_type": "stream",
     "text": [
      "[0.65323027 0.44769724 0.94481098 0.67959775]\n"
     ]
    }
   ],
   "source": [
    "# value from 0 to 1\n",
    "# but i didnt get it into negative value\n",
    "b=np.random.rand(4)\n",
    "print(b)\n"
   ]
  },
  {
   "cell_type": "markdown",
   "id": "1c4e3f00-16d0-4538-9c52-130e1b781014",
   "metadata": {},
   "source": [
    "# randf()"
   ]
  },
  {
   "cell_type": "code",
   "execution_count": 86,
   "id": "f3d4d631-602e-4727-9569-82cc329fa6ef",
   "metadata": {},
   "outputs": [
    {
     "name": "stdout",
     "output_type": "stream",
     "text": [
      "[0.24002984 0.33364058 0.82237956]\n"
     ]
    }
   ],
   "source": [
    "c=np.random.ranf(3)\n",
    "print(c)"
   ]
  },
  {
   "cell_type": "markdown",
   "id": "621057ff-d03f-4c6a-872f-0574a29de634",
   "metadata": {},
   "source": [
    "# randint()\n"
   ]
  },
  {
   "cell_type": "code",
   "execution_count": 89,
   "id": "5d955fcf-4384-4ea0-9889-f410f947e36d",
   "metadata": {},
   "outputs": [],
   "source": [
    "# to get range number with range   value  is n integer"
   ]
  },
  {
   "cell_type": "code",
   "execution_count": 95,
   "id": "ba853617-d431-4cea-9d86-8a2187bdbf17",
   "metadata": {},
   "outputs": [
    {
     "name": "stdout",
     "output_type": "stream",
     "text": [
      "[9 3 6 4]\n"
     ]
    }
   ],
   "source": [
    "# n=np.random.randint(min,max,total_value_we_want)\n",
    "\n",
    "n=np.random.randint(3,10,4)\n",
    "print(n)"
   ]
  },
  {
   "cell_type": "code",
   "execution_count": null,
   "id": "dedef1ec-8d2a-47f0-8c2e-86af17644eef",
   "metadata": {},
   "outputs": [],
   "source": []
  }
 ],
 "metadata": {
  "kernelspec": {
   "display_name": "Python 3 (ipykernel)",
   "language": "python",
   "name": "python3"
  },
  "language_info": {
   "codemirror_mode": {
    "name": "ipython",
    "version": 3
   },
   "file_extension": ".py",
   "mimetype": "text/x-python",
   "name": "python",
   "nbconvert_exporter": "python",
   "pygments_lexer": "ipython3",
   "version": "3.12.4"
  }
 },
 "nbformat": 4,
 "nbformat_minor": 5
}
