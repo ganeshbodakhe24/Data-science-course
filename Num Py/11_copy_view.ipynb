{
 "cells": [
  {
   "cell_type": "code",
   "execution_count": 1,
   "id": "e58da920-7398-409a-a481-0e5890c614c5",
   "metadata": {},
   "outputs": [],
   "source": [
    "import numpy as np\n"
   ]
  },
  {
   "cell_type": "code",
   "execution_count": 3,
   "id": "7e4dd54d-76cf-4207-8a1d-0ccb133de287",
   "metadata": {},
   "outputs": [],
   "source": [
    "x=np.array([1,2,3,4,5,6])"
   ]
  },
  {
   "cell_type": "code",
   "execution_count": 5,
   "id": "02ab1f1a-13df-4676-842a-df5332722aa7",
   "metadata": {},
   "outputs": [],
   "source": [
    "y=x.copy()"
   ]
  },
  {
   "cell_type": "code",
   "execution_count": 9,
   "id": "a4407227-ff78-4453-a07f-846f423487b2",
   "metadata": {},
   "outputs": [
    {
     "data": {
      "text/plain": [
       "array([1, 2, 3, 4, 5, 6])"
      ]
     },
     "execution_count": 9,
     "metadata": {},
     "output_type": "execute_result"
    }
   ],
   "source": [
    "y"
   ]
  },
  {
   "cell_type": "code",
   "execution_count": 15,
   "id": "ced5d104-bd6d-4592-b592-172c830ea4ab",
   "metadata": {},
   "outputs": [],
   "source": [
    "y[0]=20"
   ]
  },
  {
   "cell_type": "code",
   "execution_count": 17,
   "id": "643e60d6-6a70-4cef-9ac3-70d4426a88d7",
   "metadata": {},
   "outputs": [
    {
     "name": "stdout",
     "output_type": "stream",
     "text": [
      "orignal:  [1 2 3 4 5 6]\n",
      "copy:  [20  2  3  4  5  6]\n"
     ]
    }
   ],
   "source": [
    "print(\"orignal: \",x)\n",
    "print(\"copy: \",y)"
   ]
  },
  {
   "cell_type": "markdown",
   "id": "addd085e-3a3b-4e2d-a9a0-a71995c83e0a",
   "metadata": {},
   "source": [
    "view"
   ]
  },
  {
   "cell_type": "code",
   "execution_count": 20,
   "id": "a5ffeb34-acbf-4bd9-94bf-55e381696eb6",
   "metadata": {},
   "outputs": [],
   "source": [
    "z=x.view()"
   ]
  },
  {
   "cell_type": "code",
   "execution_count": 22,
   "id": "6eae83d7-65c6-47ea-b9d9-160ad83c22e6",
   "metadata": {},
   "outputs": [
    {
     "data": {
      "text/plain": [
       "array([1, 2, 3, 4, 5, 6])"
      ]
     },
     "execution_count": 22,
     "metadata": {},
     "output_type": "execute_result"
    }
   ],
   "source": [
    "z"
   ]
  },
  {
   "cell_type": "code",
   "execution_count": 24,
   "id": "f5977c05-5035-45e6-8388-3dfcfa226d9d",
   "metadata": {},
   "outputs": [],
   "source": [
    "z[0]=40"
   ]
  },
  {
   "cell_type": "code",
   "execution_count": 26,
   "id": "c092cee6-fce8-4672-915d-d1ab09b8bafd",
   "metadata": {},
   "outputs": [
    {
     "name": "stdout",
     "output_type": "stream",
     "text": [
      "orignal:  [40  2  3  4  5  6]\n",
      "copy:  [40  2  3  4  5  6]\n"
     ]
    }
   ],
   "source": [
    "print(\"orignal: \",x)\n",
    "print(\"copy: \",z)"
   ]
  },
  {
   "cell_type": "raw",
   "id": "6e66c747-3806-42f9-8865-ebc8c36002f6",
   "metadata": {},
   "source": [
    "difference in copy and view\n",
    "1 copy - copy the array to other variable hance change in copy variable not reflect in orignal data set \n",
    "2.view- view show the orignal data set hance change in view data will reflect in orignal data and vis."
   ]
  },
  {
   "cell_type": "code",
   "execution_count": null,
   "id": "287b4eea-ad8c-49ef-97d4-00b774759d68",
   "metadata": {},
   "outputs": [],
   "source": []
  }
 ],
 "metadata": {
  "kernelspec": {
   "display_name": "Python 3 (ipykernel)",
   "language": "python",
   "name": "python3"
  },
  "language_info": {
   "codemirror_mode": {
    "name": "ipython",
    "version": 3
   },
   "file_extension": ".py",
   "mimetype": "text/x-python",
   "name": "python",
   "nbconvert_exporter": "python",
   "pygments_lexer": "ipython3",
   "version": "3.12.4"
  }
 },
 "nbformat": 4,
 "nbformat_minor": 5
}
