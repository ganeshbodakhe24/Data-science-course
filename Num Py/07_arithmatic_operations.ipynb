{
 "cells": [
  {
   "cell_type": "code",
   "execution_count": 1,
   "id": "268ebbb3-5300-4a8c-ac1a-e9a3f60a55f5",
   "metadata": {},
   "outputs": [],
   "source": [
    "import numpy as np"
   ]
  },
  {
   "cell_type": "markdown",
   "id": "a099bda7-34db-4b05-bfa5-0ddce7468539",
   "metadata": {},
   "source": [
    "# arithmetic operations"
   ]
  },
  {
   "cell_type": "markdown",
   "id": "1025cc02-e831-4a28-a2f0-3f3472571053",
   "metadata": {},
   "source": [
    "sum()"
   ]
  },
  {
   "cell_type": "code",
   "execution_count": 23,
   "id": "2304e34c-43e2-4267-97dd-1d29a7e4fda4",
   "metadata": {},
   "outputs": [
    {
     "name": "stdout",
     "output_type": "stream",
     "text": [
      "[1 2 3 4]\n",
      "arr : [1 2 3 4]\n",
      "sum :  [5 6 7 8]\n",
      "mul : [2 4 6 8]\n",
      "sub : [0 1 2 3]\n",
      "div :  [1. 2. 3. 4.]\n"
     ]
    }
   ],
   "source": [
    "a=np.array([1,2,3,4])\n",
    "print(a)\n",
    "arr_sum=a+4\n",
    "arr_mul=a*2\n",
    "arr_sub=a-1\n",
    "arr_div=a/1\n",
    "print(\"arr :\",a)\n",
    "print(\"sum : \",arr_sum)\n",
    "print(\"mul :\" ,arr_mul)\n",
    "print(\"sub :\" , arr_sub)\n",
    "print(\"div : \",arr_div)"
   ]
  },
  {
   "cell_type": "code",
   "execution_count": 15,
   "id": "06d4d80a-f167-476b-ac09-29e2a7acc29b",
   "metadata": {},
   "outputs": [],
   "source": [
    "# in numpy"
   ]
  },
  {
   "cell_type": "code",
   "execution_count": 25,
   "id": "9ddca944-72c7-49a0-928f-0177bfa48299",
   "metadata": {},
   "outputs": [
    {
     "name": "stdout",
     "output_type": "stream",
     "text": [
      "[1 2 3 4]\n",
      "arr : [1 2 3 4]\n",
      "sum :  [5 6 7 8]\n",
      "mul : [2 4 6 8]\n",
      "sub : [0 1 2 3]\n",
      "div :  [1. 2. 3. 4.]\n"
     ]
    }
   ],
   "source": [
    "a=np.array([1,2,3,4])\n",
    "print(a)\n",
    "arr_sum=np.add(a,4)\n",
    "arr_mul=np.multiply(a,2)\n",
    "arr_sub=np.subtract(a,1)\n",
    "arr_div=np.divide(a,1)\n",
    "print(\"arr :\",a)\n",
    "print(\"sum : \",arr_sum)\n",
    "print(\"mul :\" ,arr_mul)\n",
    "print(\"sub :\" , arr_sub)\n",
    "print(\"div : \",arr_div)"
   ]
  },
  {
   "cell_type": "markdown",
   "id": "73f638ab-2f66-4881-b388-fc4a17019b3b",
   "metadata": {},
   "source": [
    "now array to array"
   ]
  },
  {
   "cell_type": "code",
   "execution_count": 28,
   "id": "dd92c8fb-efa8-44e1-bd11-faaecab24689",
   "metadata": {},
   "outputs": [
    {
     "name": "stdout",
     "output_type": "stream",
     "text": [
      "arr : [1 2 3]\n",
      "sum :  [2 4 6]\n",
      "mul : [1 4 9]\n",
      "sub : [0 0 0]\n",
      "div :  [1. 1. 1.]\n"
     ]
    }
   ],
   "source": [
    "a=np.array([1,2,3])\n",
    "b=np.array([1,2,3])\n",
    "arr_sum=np.add(a,b)\n",
    "arr_mul=np.multiply(a,b)\n",
    "arr_sub=np.subtract(a,b)\n",
    "arr_div=np.divide(a,b)\n",
    "print(\"arr :\",a)\n",
    "print(\"sum : \",arr_sum)\n",
    "print(\"mul :\" ,arr_mul)\n",
    "print(\"sub :\" , arr_sub)\n",
    "print(\"div : \",arr_div)"
   ]
  },
  {
   "cell_type": "markdown",
   "id": "fa0eff14-6ccd-4656-afd1-afdb77969444",
   "metadata": {},
   "source": [
    "squareroot\n"
   ]
  },
  {
   "cell_type": "code",
   "execution_count": 37,
   "id": "c7da6785-b4cc-4588-b1a4-6faf0b6ee3db",
   "metadata": {},
   "outputs": [
    {
     "name": "stdout",
     "output_type": "stream",
     "text": [
      "sqrt:  [1. 2. 4.]\n"
     ]
    }
   ],
   "source": [
    "a=np.array([1,4,16])\n",
    "arr_sqrt=np.sqrt(a)\n",
    "print(\"sqrt: \",arr_sqrt)"
   ]
  },
  {
   "cell_type": "markdown",
   "id": "091ce497-48e2-4c41-9db3-1c355da4223e",
   "metadata": {},
   "source": [
    "# min, max,argmin (index) ,sin,cos ,consum - fibonasi series like"
   ]
  },
  {
   "cell_type": "code",
   "execution_count": 41,
   "id": "13e0ca28-c793-45bb-99cd-ef93744308c2",
   "metadata": {},
   "outputs": [
    {
     "name": "stdout",
     "output_type": "stream",
     "text": [
      "min : 1\n"
     ]
    }
   ],
   "source": [
    "a=np.array([1,4,16])\n",
    "arr_min=np.min(a)\n",
    "print(\"min :\",arr_min)"
   ]
  },
  {
   "cell_type": "code",
   "execution_count": 45,
   "id": "1d6aff08-0ff4-457b-a025-38216ac29bd6",
   "metadata": {},
   "outputs": [
    {
     "name": "stdout",
     "output_type": "stream",
     "text": [
      "min : 16\n"
     ]
    }
   ],
   "source": [
    "a=np.array([1,4,16])\n",
    "arr_max=np.max(a)\n",
    "print(\"min :\",arr_max)"
   ]
  },
  {
   "cell_type": "code",
   "execution_count": 47,
   "id": "d1ecfaa9-7b24-47da-859e-5733066749e3",
   "metadata": {},
   "outputs": [
    {
     "name": "stdout",
     "output_type": "stream",
     "text": [
      "min : [ 0.54030231 -0.65364362 -0.95765948]\n"
     ]
    }
   ],
   "source": [
    "a=np.array([1,4,16])\n",
    "arr_cos=np.cos(a)\n",
    "print(\"min :\",arr_cos)"
   ]
  },
  {
   "cell_type": "code",
   "execution_count": 51,
   "id": "a3fb4e5e-6307-47c4-a841-d02d8f1cca20",
   "metadata": {},
   "outputs": [
    {
     "name": "stdout",
     "output_type": "stream",
     "text": [
      "min : [ 1  3  6 10]\n"
     ]
    }
   ],
   "source": [
    "a=np.array([1,2,3,4])\n",
    "arr_cumsum=np.cumsum(a)\n",
    "print(\"min :\",arr_cumsum)"
   ]
  },
  {
   "cell_type": "code",
   "execution_count": null,
   "id": "280b825a-91e3-44fa-b3f0-e673681f8bdf",
   "metadata": {},
   "outputs": [],
   "source": []
  }
 ],
 "metadata": {
  "kernelspec": {
   "display_name": "Python 3 (ipykernel)",
   "language": "python",
   "name": "python3"
  },
  "language_info": {
   "codemirror_mode": {
    "name": "ipython",
    "version": 3
   },
   "file_extension": ".py",
   "mimetype": "text/x-python",
   "name": "python",
   "nbconvert_exporter": "python",
   "pygments_lexer": "ipython3",
   "version": "3.12.4"
  }
 },
 "nbformat": 4,
 "nbformat_minor": 5
}
