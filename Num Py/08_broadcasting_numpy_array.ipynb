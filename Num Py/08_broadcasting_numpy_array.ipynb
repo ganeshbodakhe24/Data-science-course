{
 "cells": [
  {
   "cell_type": "code",
   "execution_count": 3,
   "id": "15023f13-61d7-4130-aa84-7a75868d9800",
   "metadata": {},
   "outputs": [],
   "source": [
    "import numpy as np"
   ]
  },
  {
   "cell_type": "code",
   "execution_count": 12,
   "id": "33284cfa-191b-46a3-aaab-43dbab3875b4",
   "metadata": {},
   "outputs": [
    {
     "ename": "ValueError",
     "evalue": "operands could not be broadcast together with shapes (4,) (3,) ",
     "output_type": "error",
     "traceback": [
      "\u001b[1;31m---------------------------------------------------------------------------\u001b[0m",
      "\u001b[1;31mValueError\u001b[0m                                Traceback (most recent call last)",
      "Cell \u001b[1;32mIn[12], line 3\u001b[0m\n\u001b[0;32m      1\u001b[0m arr1\u001b[38;5;241m=\u001b[39mnp\u001b[38;5;241m.\u001b[39marray([\u001b[38;5;241m1\u001b[39m,\u001b[38;5;241m2\u001b[39m,\u001b[38;5;241m3\u001b[39m,\u001b[38;5;241m4\u001b[39m])\n\u001b[0;32m      2\u001b[0m arr2\u001b[38;5;241m=\u001b[39mnp\u001b[38;5;241m.\u001b[39marray([\u001b[38;5;241m1\u001b[39m,\u001b[38;5;241m2\u001b[39m,\u001b[38;5;241m3\u001b[39m])\n\u001b[1;32m----> 3\u001b[0m arr3\u001b[38;5;241m=\u001b[39mnp\u001b[38;5;241m.\u001b[39madd(arr1,arr2)\n\u001b[0;32m      4\u001b[0m \u001b[38;5;28mprint\u001b[39m(arr3)\n",
      "\u001b[1;31mValueError\u001b[0m: operands could not be broadcast together with shapes (4,) (3,) "
     ]
    }
   ],
   "source": [
    "arr1=np.array([1,2,3,4])\n",
    "arr2=np.array([1,2,3])\n",
    "arr3=np.add(arr1,arr2)\n",
    "print(arr3)"
   ]
  },
  {
   "cell_type": "code",
   "execution_count": 14,
   "id": "f496aaf0-a50c-43e3-b5fb-42479efa715c",
   "metadata": {},
   "outputs": [],
   "source": [
    "# the above problem we get dute to do not having same number of length of array"
   ]
  },
  {
   "cell_type": "code",
   "execution_count": 18,
   "id": "b03045c7-4146-4dc9-b9a3-1ea01e7facbd",
   "metadata": {},
   "outputs": [],
   "source": [
    "# but we can add it by using matring sum like (1,3) and (3,1) can get sum in matrix and make (3,3) matrix"
   ]
  },
  {
   "cell_type": "code",
   "execution_count": 24,
   "id": "621fee0c-dc70-4d28-8232-0f1d36beffad",
   "metadata": {},
   "outputs": [
    {
     "name": "stdout",
     "output_type": "stream",
     "text": [
      "[[[2 3 4]\n",
      "  [3 4 5]\n",
      "  [4 5 6]]]\n"
     ]
    }
   ],
   "source": [
    "arr1=np.array([1,2,3])\n",
    "arr2=np.array([[[1],[2],[3]]])\n",
    "arr3=np.add(arr1,arr2)\n",
    "print(arr3)"
   ]
  },
  {
   "cell_type": "code",
   "execution_count": 38,
   "id": "f388e44b-9565-4925-904a-b8f4ff663087",
   "metadata": {},
   "outputs": [
    {
     "name": "stdout",
     "output_type": "stream",
     "text": [
      "[[2 5]\n",
      " [2 5]]\n"
     ]
    }
   ],
   "source": [
    "# now (2,1) and (2,2) array\n",
    "arr1=np.array([[1,3]])\n",
    "arr2=np.array([[1,2],[1,2]])\n",
    "arr1.shape\n",
    "arr3=np.add(arr1,arr2)\n",
    "print(arr3)"
   ]
  },
  {
   "cell_type": "code",
   "execution_count": 40,
   "id": "7cfe9847-db7b-4d59-9065-380c4cd52000",
   "metadata": {},
   "outputs": [
    {
     "name": "stdout",
     "output_type": "stream",
     "text": [
      "[[1 6]\n",
      " [1 6]]\n"
     ]
    }
   ],
   "source": [
    "# now (2,1) and (2,2) array\n",
    "arr1=np.array([[1,3]])\n",
    "arr2=np.array([[1,2],[1,2]])\n",
    "arr1.shape\n",
    "arr3=np.multiply(arr1,arr2)\n",
    "print(arr3)"
   ]
  },
  {
   "cell_type": "code",
   "execution_count": 42,
   "id": "51ec500d-7ecf-401f-a4b7-f45d335485d9",
   "metadata": {},
   "outputs": [
    {
     "name": "stdout",
     "output_type": "stream",
     "text": [
      "[[[1 2 3]\n",
      "  [2 4 6]\n",
      "  [3 6 9]]]\n"
     ]
    }
   ],
   "source": [
    "arr1=np.array([1,2,3])\n",
    "arr2=np.array([[[1],[2],[3]]])\n",
    "arr3=np.multiply(arr1,arr2)\n",
    "print(arr3)"
   ]
  },
  {
   "cell_type": "code",
   "execution_count": null,
   "id": "76dfcbc3-3ff5-43cd-bfa1-fae1d4ca5383",
   "metadata": {},
   "outputs": [],
   "source": []
  }
 ],
 "metadata": {
  "kernelspec": {
   "display_name": "Python 3 (ipykernel)",
   "language": "python",
   "name": "python3"
  },
  "language_info": {
   "codemirror_mode": {
    "name": "ipython",
    "version": 3
   },
   "file_extension": ".py",
   "mimetype": "text/x-python",
   "name": "python",
   "nbconvert_exporter": "python",
   "pygments_lexer": "ipython3",
   "version": "3.12.4"
  }
 },
 "nbformat": 4,
 "nbformat_minor": 5
}
