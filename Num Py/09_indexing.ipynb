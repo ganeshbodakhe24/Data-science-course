{
 "cells": [
  {
   "cell_type": "code",
   "execution_count": 1,
   "id": "6f60810d-9ce3-4455-ac5a-7556143e2c6d",
   "metadata": {},
   "outputs": [],
   "source": [
    "import numpy as np"
   ]
  },
  {
   "cell_type": "code",
   "execution_count": 3,
   "id": "fae8ffb2-fe8f-4737-b81a-c065c4b557b6",
   "metadata": {},
   "outputs": [
    {
     "name": "stdout",
     "output_type": "stream",
     "text": [
      "5\n"
     ]
    }
   ],
   "source": [
    "a=np.array([2,3,4,5,6,7,8])\n",
    "print(a[3])"
   ]
  },
  {
   "cell_type": "code",
   "execution_count": 5,
   "id": "b2cabfec-a72a-44db-ad91-2798dca5dd5b",
   "metadata": {},
   "outputs": [
    {
     "name": "stdout",
     "output_type": "stream",
     "text": [
      "2\n"
     ]
    }
   ],
   "source": [
    "print(a[0])"
   ]
  },
  {
   "cell_type": "code",
   "execution_count": 7,
   "id": "59c1250f-88ad-4d02-a62f-9a42737fd2e4",
   "metadata": {},
   "outputs": [],
   "source": [
    "# multidimentional array"
   ]
  },
  {
   "cell_type": "code",
   "execution_count": 11,
   "id": "fe85decd-8cc5-4d51-bb3d-e877e7a2f5ed",
   "metadata": {},
   "outputs": [
    {
     "name": "stdout",
     "output_type": "stream",
     "text": [
      "4\n"
     ]
    }
   ],
   "source": [
    "a=np.array([[1,2,3,4,5,6],[7,8,9,10,11,12]])\n",
    "print(a[0,3])"
   ]
  },
  {
   "cell_type": "code",
   "execution_count": 13,
   "id": "d4e9da22-542d-4b7c-a25d-56fc12cf6695",
   "metadata": {},
   "outputs": [
    {
     "name": "stdout",
     "output_type": "stream",
     "text": [
      "10\n"
     ]
    }
   ],
   "source": [
    "print(a[1,3])"
   ]
  },
  {
   "cell_type": "markdown",
   "id": "f9a2dc29-3ffc-4d3e-8e0c-b35e9ca0f7ad",
   "metadata": {},
   "source": [
    "# three dimentional array"
   ]
  },
  {
   "cell_type": "code",
   "execution_count": 30,
   "id": "37c6df3e-71ca-4116-95ee-ea0a375ce0ed",
   "metadata": {},
   "outputs": [
    {
     "name": "stdout",
     "output_type": "stream",
     "text": [
      "[[[1 2 3]\n",
      "  [5 6 7]\n",
      "  [4 8 9]]]\n"
     ]
    }
   ],
   "source": [
    "a=np.array([[[1,2,3],[5,6,7],[4,8,9]]])\n",
    "print(a)"
   ]
  },
  {
   "cell_type": "code",
   "execution_count": 27,
   "id": "0c941afa-8df3-4f10-99ca-0ed60f5bd15c",
   "metadata": {},
   "outputs": [
    {
     "name": "stdout",
     "output_type": "stream",
     "text": [
      "7\n"
     ]
    }
   ],
   "source": [
    "print(a[0,1,2])"
   ]
  },
  {
   "cell_type": "code",
   "execution_count": 32,
   "id": "00ce5b54-c5b2-45b1-a9df-bc615f75db48",
   "metadata": {},
   "outputs": [],
   "source": [
    "# now sclicing"
   ]
  },
  {
   "cell_type": "code",
   "execution_count": 38,
   "id": "3d6157c0-8f5b-463e-8510-5694fea14642",
   "metadata": {},
   "outputs": [
    {
     "name": "stdout",
     "output_type": "stream",
     "text": [
      "[0, 1, 2, 3, 4, 5, 6, 7, 8]\n"
     ]
    }
   ],
   "source": [
    "a=np.array([0,1,2,3,4,5,6,7,8])\n",
    "print(a[:])\n",
    "# all value print"
   ]
  },
  {
   "cell_type": "code",
   "execution_count": 40,
   "id": "a295c41f-48c8-4908-8679-cd071f87008d",
   "metadata": {},
   "outputs": [
    {
     "name": "stdout",
     "output_type": "stream",
     "text": [
      "[0, 1, 2, 3, 4, 5, 6]\n"
     ]
    }
   ],
   "source": [
    "a=np.array([0,1,2,3,4,5,6,7,8])\n",
    "print(a[:7])\n",
    "# from 0 to 7 print"
   ]
  },
  {
   "cell_type": "code",
   "execution_count": 42,
   "id": "bbcaeb08-ec94-4802-b973-ea6a367f918a",
   "metadata": {},
   "outputs": [
    {
     "name": "stdout",
     "output_type": "stream",
     "text": [
      "[4, 5, 6, 7]\n"
     ]
    }
   ],
   "source": [
    "a=np.array([0,1,2,3,4,5,6,7,8])\n",
    "print(a[4:8])\n",
    "# from 4 to 8"
   ]
  },
  {
   "cell_type": "code",
   "execution_count": 46,
   "id": "123ddab8-dd5f-4c1f-b4d9-9f96d89d1c68",
   "metadata": {},
   "outputs": [
    {
     "name": "stdout",
     "output_type": "stream",
     "text": [
      "[0, 1, 2, 3, 4, 5, 6]\n"
     ]
    }
   ],
   "source": [
    "# from starting to 7\n",
    "a=np.array([0,1,2,3,4,5,6,7,8])\n",
    "print(a[:7])"
   ]
  },
  {
   "cell_type": "code",
   "execution_count": 48,
   "id": "7ed5ecad-543d-421e-83c6-23a7000fb19e",
   "metadata": {},
   "outputs": [
    {
     "name": "stdout",
     "output_type": "stream",
     "text": [
      "[5, 6, 7, 8]\n"
     ]
    }
   ],
   "source": [
    "# from 5 to end\n",
    "a=np.array([0,1,2,3,4,5,6,7,8])\n",
    "print(a[5:])"
   ]
  },
  {
   "cell_type": "markdown",
   "id": "291cd1cf-e781-4dee-bd50-b0e1df3cdc38",
   "metadata": {},
   "source": [
    "# two dimentional array"
   ]
  },
  {
   "cell_type": "code",
   "execution_count": 54,
   "id": "8e04ee5d-1d3e-43c2-b8ee-e43f128c2832",
   "metadata": {},
   "outputs": [
    {
     "name": "stdout",
     "output_type": "stream",
     "text": [
      "[[0 1 2]\n",
      " [3 4 5]]\n"
     ]
    }
   ],
   "source": [
    "a=np.array([[0,1,2],[3,4,5]])\n",
    "print(a)"
   ]
  },
  {
   "cell_type": "code",
   "execution_count": 60,
   "id": "c0815164-36f1-4cae-ab9e-65a8b1be51c4",
   "metadata": {},
   "outputs": [
    {
     "name": "stdout",
     "output_type": "stream",
     "text": [
      "[0 1]\n"
     ]
    }
   ],
   "source": [
    "print(a[0,:2])"
   ]
  },
  {
   "cell_type": "markdown",
   "id": "d90b2c73-b2b4-4909-8845-90a7c79d8b96",
   "metadata": {},
   "source": [
    "# three dimentiona"
   ]
  },
  {
   "cell_type": "code",
   "execution_count": 64,
   "id": "807bc49d-2d9d-44c9-b554-87071514053b",
   "metadata": {},
   "outputs": [
    {
     "name": "stdout",
     "output_type": "stream",
     "text": [
      "[[[0 1 2]\n",
      "  [3 4 5]]]\n"
     ]
    }
   ],
   "source": [
    "a=np.array([[[0,1,2],[3,4,5]]])\n",
    "print(a)"
   ]
  },
  {
   "cell_type": "code",
   "execution_count": 66,
   "id": "a25d166e-f16c-408c-9c14-f44c432f8fd5",
   "metadata": {},
   "outputs": [
    {
     "name": "stdout",
     "output_type": "stream",
     "text": [
      "[0 1]\n"
     ]
    }
   ],
   "source": [
    "print(a[0,0,0:2])"
   ]
  },
  {
   "cell_type": "code",
   "execution_count": null,
   "id": "898caadd-ecb5-47ea-b8ff-f4d5b44e61cf",
   "metadata": {},
   "outputs": [],
   "source": []
  }
 ],
 "metadata": {
  "kernelspec": {
   "display_name": "Python 3 (ipykernel)",
   "language": "python",
   "name": "python3"
  },
  "language_info": {
   "codemirror_mode": {
    "name": "ipython",
    "version": 3
   },
   "file_extension": ".py",
   "mimetype": "text/x-python",
   "name": "python",
   "nbconvert_exporter": "python",
   "pygments_lexer": "ipython3",
   "version": "3.12.4"
  }
 },
 "nbformat": 4,
 "nbformat_minor": 5
}
