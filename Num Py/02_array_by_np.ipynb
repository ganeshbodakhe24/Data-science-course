{
 "cells": [
  {
   "cell_type": "code",
   "execution_count": 1,
   "id": "aa7384b9-fed5-4907-8a22-3e7465bdf480",
   "metadata": {},
   "outputs": [],
   "source": [
    "import numpy as np"
   ]
  },
  {
   "cell_type": "code",
   "execution_count": 5,
   "id": "2bea98e0-f5e4-406b-a39e-8bd2e533ce31",
   "metadata": {},
   "outputs": [],
   "source": [
    "l=np.array([\"Ganesh\",\"Raj\",\"sham\"])"
   ]
  },
  {
   "cell_type": "code",
   "execution_count": 7,
   "id": "0313a4d8-9bd0-4390-b565-93fdad854820",
   "metadata": {},
   "outputs": [
    {
     "name": "stdout",
     "output_type": "stream",
     "text": [
      "<class 'numpy.ndarray'>\n"
     ]
    }
   ],
   "source": [
    "print(type(l))"
   ]
  },
  {
   "cell_type": "code",
   "execution_count": 9,
   "id": "122e0536-e5fb-47f8-8099-8795364ec042",
   "metadata": {},
   "outputs": [],
   "source": [
    "# now making 1 -d array"
   ]
  },
  {
   "cell_type": "code",
   "execution_count": 19,
   "id": "7946c4ae-e89d-4e95-9821-44c1cdd52e66",
   "metadata": {},
   "outputs": [
    {
     "name": "stdout",
     "output_type": "stream",
     "text": [
      "<class 'numpy.ndarray'>\n",
      "1\n"
     ]
    }
   ],
   "source": [
    "d_1=[1,2,3,4,]\n",
    "d_1=np.array(d_1)\n",
    "print(type(d_1))\n",
    "# print dimention\n",
    "\n",
    "print(d_1.ndim)"
   ]
  },
  {
   "cell_type": "code",
   "execution_count": 31,
   "id": "a3a75cf5-1329-4c69-8c3f-13ac6c35696e",
   "metadata": {},
   "outputs": [
    {
     "name": "stdout",
     "output_type": "stream",
     "text": [
      "[[1 2]\n",
      " [3 4]\n",
      " [5 6]]\n",
      "2\n"
     ]
    }
   ],
   "source": [
    "# two dimentionabs\n",
    "d_2=[[1,2],[3,4],[5,6]]\n",
    "d_2=np.array(d_2)\n",
    "print(d_2)\n",
    "print(d_2.ndim)"
   ]
  },
  {
   "cell_type": "code",
   "execution_count": 33,
   "id": "e85def16-0ee6-4e28-b77d-4a896bce4508",
   "metadata": {},
   "outputs": [],
   "source": [
    "# n dim array"
   ]
  },
  {
   "cell_type": "code",
   "execution_count": 47,
   "id": "649aa30b-ac39-4dec-ba2f-81aa93fa4e98",
   "metadata": {},
   "outputs": [],
   "source": [
    "d_n=np.array([4,3,2,3],ndmin=30)"
   ]
  },
  {
   "cell_type": "code",
   "execution_count": 53,
   "id": "b6018021-758f-471a-a37a-49812f41b813",
   "metadata": {},
   "outputs": [
    {
     "name": "stdout",
     "output_type": "stream",
     "text": [
      "[[[[[[[[[[[[[[[[[[[[[[[[[[[[[[4 3 2 3]]]]]]]]]]]]]]]]]]]]]]]]]]]]]]\n"
     ]
    }
   ],
   "source": [
    "print(d_n)"
   ]
  },
  {
   "cell_type": "code",
   "execution_count": null,
   "id": "d492c8c8-9aab-4c74-8fc0-f4203163d66f",
   "metadata": {},
   "outputs": [],
   "source": []
  }
 ],
 "metadata": {
  "kernelspec": {
   "display_name": "Python 3 (ipykernel)",
   "language": "python",
   "name": "python3"
  },
  "language_info": {
   "codemirror_mode": {
    "name": "ipython",
    "version": 3
   },
   "file_extension": ".py",
   "mimetype": "text/x-python",
   "name": "python",
   "nbconvert_exporter": "python",
   "pygments_lexer": "ipython3",
   "version": "3.12.4"
  }
 },
 "nbformat": 4,
 "nbformat_minor": 5
}
